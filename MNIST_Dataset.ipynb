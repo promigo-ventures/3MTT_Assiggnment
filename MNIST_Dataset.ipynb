{
  "nbformat": 4,
  "nbformat_minor": 0,
  "metadata": {
    "colab": {
      "provenance": [],
      "authorship_tag": "ABX9TyO1mc4hTKej4K8Q825hQ568",
      "include_colab_link": true
    },
    "kernelspec": {
      "name": "python3",
      "display_name": "Python 3"
    },
    "language_info": {
      "name": "python"
    }
  },
  "cells": [
    {
      "cell_type": "markdown",
      "metadata": {
        "id": "view-in-github",
        "colab_type": "text"
      },
      "source": [
        "<a href=\"https://colab.research.google.com/github/promigo-ventures/3MTT_Assiggnment/blob/main/MNIST_Dataset.ipynb\" target=\"_parent\"><img src=\"https://colab.research.google.com/assets/colab-badge.svg\" alt=\"Open In Colab\"/></a>"
      ]
    },
    {
      "cell_type": "code",
      "execution_count": 11,
      "metadata": {
        "id": "HxVk1-8CNgw7"
      },
      "outputs": [],
      "source": [
        "import numpy as np\n",
        "import struct\n",
        "import tensorflow as tf\n",
        "from google.colab import files\n",
        "from tensorflow.keras.models import Sequential\n",
        "from tensorflow.keras.layers import Dense, Flatten\n",
        "from tensorflow.keras.utils import to_categorical"
      ]
    },
    {
      "cell_type": "code",
      "source": [
        "# Helper functions to load the IDX file format\n",
        "def load_images(file_path):\n",
        "    with open(file_path, 'rb') as f:\n",
        "        _, num_images, rows, cols = struct.unpack(\">IIII\", f.read(16))\n",
        "        images = np.fromfile(f, dtype=np.uint8).reshape(num_images, rows, cols)\n",
        "    return images\n",
        "\n",
        "def load_labels(file_path):\n",
        "    with open(file_path, 'rb') as f:\n",
        "        _, num_labels = struct.unpack(\">II\", f.read(8))\n",
        "        labels = np.fromfile(f, dtype=np.uint8)\n",
        "    return labels"
      ],
      "metadata": {
        "id": "EFOUZ_WbP5KM"
      },
      "execution_count": 7,
      "outputs": []
    },
    {
      "cell_type": "code",
      "source": [
        "# Replace these paths with the paths to your files\n",
        "train_images_path = '/content/train-images.idx3-ubyte'\n",
        "train_labels_path = '/content/train-labels.idx1-ubyte'\n",
        "test_images_path = '/content/t10k-images.idx3-ubyte'\n",
        "test_labels_path = '/content/t10k-labels.idx1-ubyte'\n",
        "\n",
        "# Load data\n",
        "train_images = load_images(train_images_path)\n",
        "train_labels = load_labels(train_labels_path)\n",
        "test_images = load_images(test_images_path)\n",
        "test_labels = load_labels(test_labels_path)\n"
      ],
      "metadata": {
        "id": "2eOqQ9HZQCPh"
      },
      "execution_count": 13,
      "outputs": []
    },
    {
      "cell_type": "code",
      "source": [
        "# Normalize images\n",
        "train_images = train_images / 255.0\n",
        "test_images = test_images / 255.0\n",
        "\n",
        "# One-hot encode labels\n",
        "train_labels = to_categorical(train_labels)\n",
        "test_labels = to_categorical(test_labels)\n",
        "\n",
        "# Define the neural network model\n",
        "model = Sequential([\n",
        "    Flatten(input_shape=(28, 28)),  # Flatten the 28x28 images into 1D array\n",
        "    Dense(128, activation='relu'),\n",
        "    Dense(64, activation='relu'),\n",
        "    Dense(10, activation='softmax')  # 10 output units for the 10 digit classes\n",
        "])\n"
      ],
      "metadata": {
        "colab": {
          "base_uri": "https://localhost:8080/"
        },
        "id": "AtwT6BSvn5g5",
        "outputId": "b945e77e-b8d6-4f93-ed9a-4e78eceaaa9f"
      },
      "execution_count": 14,
      "outputs": [
        {
          "output_type": "stream",
          "name": "stderr",
          "text": [
            "/usr/local/lib/python3.10/dist-packages/keras/src/layers/reshaping/flatten.py:37: UserWarning: Do not pass an `input_shape`/`input_dim` argument to a layer. When using Sequential models, prefer using an `Input(shape)` object as the first layer in the model instead.\n",
            "  super().__init__(**kwargs)\n"
          ]
        }
      ]
    },
    {
      "cell_type": "code",
      "source": [
        "# Compile the model\n",
        "model.compile(optimizer='adam', loss='categorical_crossentropy', metrics=['accuracy'])\n",
        "\n",
        "# Train the model\n",
        "model.fit(train_images, train_labels, epochs=5, batch_size=32, validation_split=0.1)\n",
        "\n",
        "# Evaluate the model\n",
        "loss, accuracy = model.evaluate(test_images, test_labels)\n",
        "print(f\"Test accuracy: {accuracy * 100:.2f}%\")"
      ],
      "metadata": {
        "colab": {
          "base_uri": "https://localhost:8080/"
        },
        "id": "SQD4obDhn9-g",
        "outputId": "1be83baa-9bf4-45a3-dcc8-b42ef0d32c58"
      },
      "execution_count": 16,
      "outputs": [
        {
          "output_type": "stream",
          "name": "stdout",
          "text": [
            "Epoch 1/5\n",
            "\u001b[1m1688/1688\u001b[0m \u001b[32m━━━━━━━━━━━━━━━━━━━━\u001b[0m\u001b[37m\u001b[0m \u001b[1m15s\u001b[0m 8ms/step - accuracy: 0.9887 - loss: 0.0359 - val_accuracy: 0.9732 - val_loss: 0.0917\n",
            "Epoch 2/5\n",
            "\u001b[1m1688/1688\u001b[0m \u001b[32m━━━━━━━━━━━━━━━━━━━━\u001b[0m\u001b[37m\u001b[0m \u001b[1m7s\u001b[0m 4ms/step - accuracy: 0.9917 - loss: 0.0262 - val_accuracy: 0.9777 - val_loss: 0.0885\n",
            "Epoch 3/5\n",
            "\u001b[1m1688/1688\u001b[0m \u001b[32m━━━━━━━━━━━━━━━━━━━━\u001b[0m\u001b[37m\u001b[0m \u001b[1m9s\u001b[0m 5ms/step - accuracy: 0.9929 - loss: 0.0207 - val_accuracy: 0.9805 - val_loss: 0.0794\n",
            "Epoch 4/5\n",
            "\u001b[1m1688/1688\u001b[0m \u001b[32m━━━━━━━━━━━━━━━━━━━━\u001b[0m\u001b[37m\u001b[0m \u001b[1m9s\u001b[0m 5ms/step - accuracy: 0.9937 - loss: 0.0206 - val_accuracy: 0.9775 - val_loss: 0.0956\n",
            "Epoch 5/5\n",
            "\u001b[1m1688/1688\u001b[0m \u001b[32m━━━━━━━━━━━━━━━━━━━━\u001b[0m\u001b[37m\u001b[0m \u001b[1m8s\u001b[0m 4ms/step - accuracy: 0.9937 - loss: 0.0183 - val_accuracy: 0.9787 - val_loss: 0.0952\n",
            "\u001b[1m313/313\u001b[0m \u001b[32m━━━━━━━━━━━━━━━━━━━━\u001b[0m\u001b[37m\u001b[0m \u001b[1m1s\u001b[0m 2ms/step - accuracy: 0.9726 - loss: 0.1068\n",
            "Test accuracy: 97.69%\n"
          ]
        }
      ]
    }
  ]
}